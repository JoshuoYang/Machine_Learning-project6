{
  "cells": [
    {
      "cell_type": "markdown",
      "metadata": {
        "id": "TOTTqHoTK63d"
      },
      "source": [
        "# Setup Environment"
      ]
    },
    {
      "cell_type": "code",
      "execution_count": 1,
      "metadata": {
        "colab": {
          "base_uri": "https://localhost:8080/"
        },
        "id": "fSKnWK46U4zP",
        "outputId": "df0e468f-78a9-41af-f223-fa07dae75a5f"
      },
      "outputs": [
        {
          "output_type": "stream",
          "name": "stdout",
          "text": [
            "Drive already mounted at /content/drive; to attempt to forcibly remount, call drive.mount(\"/content/drive\", force_remount=True).\n"
          ]
        }
      ],
      "source": [
        "from google.colab import drive\n",
        "drive.mount('/content/drive')"
      ]
    },
    {
      "cell_type": "markdown",
      "source": [
        "# KernelKmeans\n"
      ],
      "metadata": {
        "id": "BnQdu9IFlwBD"
      }
    },
    {
      "cell_type": "code",
      "source": [
        "import numpy as np\n",
        "import random\n",
        "from scipy.spatial.distance import cdist\n",
        "\n",
        "from PIL import Image, ImageColor\n",
        "import os\n",
        "\n",
        "def read_input(filename): \n",
        "    image = Image.open(filename)\n",
        "    data = np.array(image)\n",
        "    # color data: RGB for each pixel (10000, 3)\n",
        "    dataC = data.reshape((data.shape[0]*data.shape[1], data.shape[2]))\n",
        "    # spatial data: coordinate for each pixel\n",
        "    dataS = np.array([(i,j) for i in range(data.shape[0]) for j in range(data.shape[1])])\n",
        "    return dataC, dataS, image.size\n",
        "\n",
        "def compute_kernel(gammaS, gammaC, S, C):\n",
        "    result_k = np.exp(-gammaS*cdist(S, S, 'sqeuclidean'))\n",
        "    result_k *= np.exp(-gammaC*cdist(C, C, 'sqeuclidean'))\n",
        "    return result_k\n",
        "\n",
        "def k_means(Gram_K, k, mode):\n",
        "    datapoint_his = []\n",
        "\n",
        "    mean = initial_data(Gram_K, k, mode)\n",
        "    old_mean = np.zeros(mean.shape, dtype=Gram_K.dtype)\n",
        "    while np.linalg.norm(mean - old_mean) > 1e-10:\n",
        "        # E-step: classify all samples\n",
        "        clusters = np.zeros(Gram_K.shape[0], dtype=int)\n",
        "        for i in range(Gram_K.shape[0]):\n",
        "            J = []\n",
        "            for j in range(k):\n",
        "                J.append(np.linalg.norm(Gram_K[i] - mean[j]))\n",
        "            clusters[i] = np.argmin(J)\n",
        "        datapoint_his.append(clusters)\n",
        "\n",
        "        # M-step: Update center mean\n",
        "        old_mean = mean\n",
        "        mean = np.zeros(mean.shape, dtype=Gram_K.dtype)\n",
        "        counters = np.zeros(k)\n",
        "        for i in range(Gram_K.shape[0]):\n",
        "            mean[clusters[i]] += Gram_K[i]\n",
        "            counters[clusters[i]] += 1\n",
        "        for i in range(k):\n",
        "            if counters[i] == 0:\n",
        "                counters[i] = 1\n",
        "            mean[i] /= counters[i]\n",
        "    print(\"Total No. of iteration(s):\", len(datapoint_his))\n",
        "    return datapoint_his\n",
        "\n",
        "def initial_data(Gram_K, k, mode):\n",
        "    mean_k = np.zeros((k, Gram_K.shape[1]), dtype=Gram_K.dtype)\n",
        "    \n",
        "    # normal k-means -> random center\n",
        "    if mode == 0: \n",
        "        center =  np.array(random.sample(range(0, 10000), k))\n",
        "        mean_k = Gram_K[center,:]\n",
        "    \n",
        "    # k-means++\n",
        "    elif mode == 1: \n",
        "        mean_k[0] = Gram_K[np.random.randint(Gram_K.shape[0], size=1), :]\n",
        "        for cluste_id in range(1, k):\n",
        "            temp_dist = np.zeros((len(Gram_K), cluste_id))\n",
        "            for i in range(len(Gram_K)):\n",
        "                for j in range(cluste_id):\n",
        "                    temp_dist[i][j] = np.linalg.norm(Gram_K[i]-mean[j])\n",
        "            dist = np.min(temp_dist, axis=1)\n",
        "            sum = np.sum(dist) * np.random.rand()\n",
        "            for i in range(len(Gram_K)):\n",
        "                sum -= dist[i]\n",
        "                if sum <= 0:\n",
        "                    mean_k[cluste_id] = Gram_K[i]\n",
        "                    break\n",
        "    return mean_k\n",
        "\n",
        "def visualplot(datapoint_his, image_size, storename, k, mode, imagename):\n",
        "    gif = []\n",
        "    color = [ImageColor.getrgb('darkorange'), ImageColor.getrgb('navy'), ImageColor.getrgb('Brown'), ImageColor.getrgb('greenyellow'), \n",
        "             ImageColor.getrgb('purple'), ImageColor.getrgb('silver'), ImageColor.getrgb('gold'), ImageColor.getrgb('MediumAquamarine'),\n",
        "             ImageColor.getrgb('black'), ImageColor.getrgb('magenta'), ImageColor.getrgb('peru'), ImageColor.getrgb('green'),\n",
        "             ImageColor.getrgb('yellow'), ImageColor.getrgb('pink'), ImageColor.getrgb('red')\n",
        "             ]\n",
        "\n",
        "    iteration = len(datapoint_his)\n",
        "    for i in range(iteration):\n",
        "        gif.append(Image.new(\"RGB\", image_size))\n",
        "        for y in range(image_size[0]):\n",
        "            for x in range(image_size[1]):\n",
        "                gif[i].putpixel((x, y), color[datapoint_his[i][y*image_size[0]+x]])\n",
        "\n",
        "    gif[0].save(storename + f\"k_means_gif_{imagename}_mode{mode}_k{k}.gif\",\n",
        "                format='GIF',\n",
        "                save_all=True,\n",
        "                append_images=gif[1:],\n",
        "                duration=400, loop=0)\n",
        "    gif[-1].save(storename + f\"k_means_pic_{imagename}_mode{mode}_K{k}.jpg\", format='JPEG')"
      ],
      "metadata": {
        "id": "fJkq7UkJl4z2"
      },
      "execution_count": 18,
      "outputs": []
    },
    {
      "cell_type": "code",
      "source": [
        "img1 = '/content/drive/MyDrive/01_GMBA/3rd_semester(2022)/01-2_PM & 04-1_Machine Learning/HW6_1218/ML_HW06/image1.png'\n",
        "img2 = '/content/drive/MyDrive/01_GMBA/3rd_semester(2022)/01-2_PM & 04-1_Machine Learning/HW6_1218/ML_HW06/image2.png'\n",
        "storename1 = '/content/drive/MyDrive/01_GMBA/3rd_semester(2022)/01-2_PM & 04-1_Machine Learning/HW6_1218/visualization/02_jordan0210/01_Kernel_Kmeans/'\n",
        "storename2 = '/content/drive/MyDrive/01_GMBA/3rd_semester(2022)/01-2_PM & 04-1_Machine Learning/HW6_1218/visualization/02_jordan0210/01_Kernel_Kmeans/01_image2/'"
      ],
      "metadata": {
        "id": "lbNyl4Ru37Me"
      },
      "execution_count": 14,
      "outputs": []
    },
    {
      "cell_type": "code",
      "source": [
        "imagename = 'image1'\n",
        "K_lis = [2,3,4,5,6,8,10,12,15]\n",
        "mode_lis = [0,1]\n",
        "for i in K_lis:\n",
        "  for j in mode_lis:\n",
        "    gamma_C = 1e-5\n",
        "    gamma_S = 1e-5\n",
        "\n",
        "    filename = img1 \n",
        "    k = i \n",
        "    mode = j \n",
        "\n",
        "    dataC, dataS, image_size = read_input(filename)\n",
        "    Gram = compute_kernel(gamma_S, gamma_C, dataS, dataC)\n",
        "\n",
        "    datapoint_his = k_means(Gram, k, mode)\n",
        "    visualplot(datapoint_his, image_size, storename1, k, mode, imagename)"
      ],
      "metadata": {
        "colab": {
          "base_uri": "https://localhost:8080/"
        },
        "id": "dxU8HHVb7H8F",
        "outputId": "2d58adaf-d673-4f88-e69d-b1712ccc2ccc"
      },
      "execution_count": 11,
      "outputs": [
        {
          "output_type": "stream",
          "name": "stdout",
          "text": [
            "Total No. of iteration(s): 9\n",
            "Total No. of iteration(s): 15\n",
            "Total No. of iteration(s): 7\n",
            "Total No. of iteration(s): 18\n",
            "Total No. of iteration(s): 12\n",
            "Total No. of iteration(s): 19\n",
            "Total No. of iteration(s): 29\n",
            "Total No. of iteration(s): 28\n",
            "Total No. of iteration(s): 16\n",
            "Total No. of iteration(s): 32\n",
            "Total No. of iteration(s): 30\n",
            "Total No. of iteration(s): 67\n",
            "Total No. of iteration(s): 54\n",
            "Total No. of iteration(s): 33\n",
            "Total No. of iteration(s): 50\n",
            "Total No. of iteration(s): 45\n",
            "Total No. of iteration(s): 69\n",
            "Total No. of iteration(s): 86\n"
          ]
        }
      ]
    },
    {
      "cell_type": "code",
      "source": [
        "imagename = 'image2'\n",
        "K_lis = [2,3,4,5,6,8,10,12,15]\n",
        "mode_lis = [0,1]\n",
        "for i in K_lis:\n",
        "  for j in mode_lis:\n",
        "    gamma_C = 1e-5\n",
        "    gamma_S = 1e-5\n",
        "\n",
        "    filename = img2 \n",
        "    k = i \n",
        "    mode = j \n",
        "\n",
        "    dataC, dataS, image_size = read_input(filename)\n",
        "    Gram = compute_kernel(gamma_S, gamma_C, dataS, dataC)\n",
        "\n",
        "    datapoint_his = k_means(Gram, k, mode)\n",
        "    visualplot(datapoint_his, image_size, storename2, k, mode, imagename)"
      ],
      "metadata": {
        "colab": {
          "base_uri": "https://localhost:8080/"
        },
        "id": "VjUpMV8V2_qP",
        "outputId": "835b5d41-2a9c-4c87-b70b-e2a027ad971b"
      },
      "execution_count": 19,
      "outputs": [
        {
          "output_type": "stream",
          "name": "stdout",
          "text": [
            "Total No. of iteration(s): 21\n",
            "Total No. of iteration(s): 6\n",
            "Total No. of iteration(s): 7\n",
            "Total No. of iteration(s): 12\n",
            "Total No. of iteration(s): 30\n",
            "Total No. of iteration(s): 15\n",
            "Total No. of iteration(s): 12\n",
            "Total No. of iteration(s): 23\n",
            "Total No. of iteration(s): 20\n",
            "Total No. of iteration(s): 23\n",
            "Total No. of iteration(s): 38\n",
            "Total No. of iteration(s): 61\n",
            "Total No. of iteration(s): 67\n",
            "Total No. of iteration(s): 63\n",
            "Total No. of iteration(s): 50\n",
            "Total No. of iteration(s): 61\n",
            "Total No. of iteration(s): 34\n",
            "Total No. of iteration(s): 102\n"
          ]
        }
      ]
    }
  ],
  "metadata": {
    "colab": {
      "provenance": [],
      "toc_visible": true
    },
    "kernelspec": {
      "display_name": "Python 3",
      "name": "python3"
    },
    "language_info": {
      "name": "python"
    }
  },
  "nbformat": 4,
  "nbformat_minor": 0
}